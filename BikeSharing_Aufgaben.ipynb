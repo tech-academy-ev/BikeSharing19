{
 "cells": [
  {
   "cell_type": "markdown",
   "metadata": {},
   "source": [
    "![TechAcademy](resources/TA_logo.png)\n",
    "<h1><center>Data Science mit Python</center></h1>\n",
    "<h2><center>Bike Sharing Demand – Projekt-Leitfaden</center></h2>\n",
    "<h2><center>Class of '19</center></h2>"
   ]
  },
  {
   "cell_type": "markdown",
   "metadata": {},
   "source": [
    "# Inhalt\n",
    "\n",
    "<a href='#WidDg' class='main'>Wofür ist dieses Dokument gedacht?</a>\n",
    "\n",
    "<a href='#Belg' class='main'>Bevor es los geht</a>\n",
    "\n",
    "<a href='#UwgdP' class='sub tab'>Um was geht es im Projekt?</a>\n",
    "\n",
    "<a href='#WidZ' class='sub tab'>Was ist das Ziel?</a> \n",
    "\n",
    "<a href='#EDLdDk' class='main'>Explorative Datenanalyse – Lerne den Datensatz kennen</a>\n",
    "\n",
    "<a href='#PdAudZ' class='sub tab'>1. Plot des Ausleihverhaltens über die Zeit</a>\n",
    "\n",
    "<a href='#WlwdRa' class='sub tab'>2. Wie lange werden Räder ausgeliehen?</a>\n",
    "\n",
    "<a href='#AnW' class='sub tab'>3. Ausleihe nach Wochentag</a>\n",
    "\n",
    "<a href='#MuKz' class='sub tab'>4. Mergen und Karten zeichnen</a>\n",
    "\n",
    "<a href='#Dm' class='sub tabtab'>4.1. Datensätze mergen</a>\n",
    "\n",
    "<a href='#KEv' class='sub tabtab'>4.2. Koordinaten-Einträge visualisieren</a>\n",
    "\n",
    "<a href='#NPWsMa' class='main'>Nachfrage-Prognose - Wende statistische Methoden an</a>\n",
    "\n",
    "<a href='#UdZzdVn' class='sub tab'>1. Untersuche den Zusammenhang zwischen den Variablen näher</a>\n",
    "\n",
    "<a href='#TvMudQ' class='sub tab'>2. Teste verschiedene Modelle und deren Qualität</a>\n",
    "\n",
    "<a href='#VTztTV' class='sub tab'>3. Von Training zu testen - Treffe Vorhersagen</a>\n",
    "\n",
    "<a href='#LdDaKh' class='sub tab'>4. Lade den Datensatz auf Kaggle hoch</a>\n",
    "\n",
    "<a href='#NF' class='main'>Noch Fragen?</a> \n",
    "\n",
    "<a href='#BdVidD' class='main'>Beschreibung der Variablen in den Datensätzen</a>\n",
    "\n",
    "\n",
    "\n"
   ]
  },
  {
   "cell_type": "markdown",
   "metadata": {},
   "source": [
    "<a id='WidDg'></a>\n",
    "# Wofür ist dieses Dokument gedacht?"
   ]
  },
  {
   "cell_type": "markdown",
   "metadata": {},
   "source": [
    "Herzlich willkommen im Projekt-Leitfaden für dein TechAcademy Data Science mit Python Projekt!\n",
    "\n",
    "Diese Kurzbeschreibung des Projektes soll dir erste Anhaltspunkte dafür geben, wie du zu einem Ergebnis kommst. Dieses Dokument ist jedoch bewusst keine Schritt-für-Schritt Anleitung, wie du das Projekt durchführen sollst. Uns ist es wichtig, dass du dich in deinem Team selbst mit der Aufgabenstellung beschäftigst und eigene Wege findest, wie du zu einem Ergebnis kommst.\n",
    "\n",
    "Da es aber besonders am Anfang nicht ganz offensichtlich sein kann, welche Schritte du durchlaufen sollst, geben wir dir mit diesem Dokument eine kleine Hilfestellung. Es wird sehr oft vorkommen, dass du nicht weiter weißt. Das ist ganz normal und gehört zu dem Lernprozess dazu. Du findest in unserem Handbuch Links zu sehr nützlichen Websites, wo Deine Frage vermutlich schon einmal beantwortet wurde. Falls auch googlen dich nicht weiter bringt, stehen dir natürlich die Mentoren per Slack und bei unseren Coding Meetups persönlich zur Verfügung."
   ]
  },
  {
   "cell_type": "markdown",
   "metadata": {},
   "source": [
    "<a id='Belg'></a>\n",
    "# Bevor es los geht"
   ]
  },
  {
   "cell_type": "markdown",
   "metadata": {},
   "source": [
    "<a id='UwgdP'></a>\n",
    "## Um was geht es im Projekt?"
   ]
  },
  {
   "cell_type": "markdown",
   "metadata": {},
   "source": [
    "Ihr kennt es hier in Frankfurt: In der ganzen Stadt stehen Leihfarräder herum und warten darauf, ausgeliehen zu werden. Dieses Angebot ist nicht nur praktisch, sondern generiert auch große Mengen an Daten. Wir werden in diesem Semester einen detaillierten Datensatz der Firma Capital Bikeshare aus Washington, DC auswerten. Dabei ist die Analyse in zwei große Abschnitte aufgeteilt, die du nacheinander bearbeiten wirst."
   ]
  },
  {
   "cell_type": "markdown",
   "metadata": {},
   "source": [
    "<a id='WidZ'></a>\n",
    "## Was ist das Ziel?"
   ]
  },
  {
   "cell_type": "markdown",
   "metadata": {},
   "source": [
    "### Explorative Datenanalyse – Lerne den Datensatz kennen"
   ]
  },
  {
   "cell_type": "markdown",
   "metadata": {},
   "source": [
    "Als ersten Schritt werden wir den Datansatz deskriptiv kennen lernen. Das heißt, wir nähern uns dem Ziel, indem wir die Daten beschreiben. Bei Data Science Projekten ist es sehr wichtig, sich zu aller erst mit dem Datansatz vertraut zu machen. Welche Variablen sind in dem Datensatz enthalten und wie stehen sie im Verhältnis zueinander? Diese Fragen kann man sich sehr gut mit Grafiken beantworten.\n",
    "\n",
    "Wir stellen dir dafür eine Reihe von strukturierten Aufgaben, die du nacheinander bearbeiten wirst. Anfänger, die bisher noch keine oder sehr wenige Statistik-Kenntnisse haben, können nach diesen Aufgaben aufhören. Damit sind für Anfänger die Mindestvoraussetzungen für die Projektabgabe erfüllt. Jedoch bleibt es gerade auch danach spannend. Versuche dich also auf jeden Fall trotzdem daran, wenn du noch etwas dazu lernen willst."
   ]
  },
  {
   "cell_type": "markdown",
   "metadata": {},
   "source": [
    "### Nachfrage-Prognose – Wende statistische Methoden an"
   ]
  },
  {
   "cell_type": "markdown",
   "metadata": {},
   "source": [
    "Dieser Part ist vornehmlich für etwas fortgeschrittenere Teilnehmer vorgesehen. Wenn du jedoch als Anfänger gut durch den ersten Abschnitt gekommen bist, empfehlen wir dir ausdrücklich, auch diesen Teil zu bearbeiten. Statistische Modelle sind ein enorm wichtiger Teil des Themenbereiches Data Science.\n",
    "\n",
    "Nachdem wir den Datensatz kennen gelernt haben, können wir in diesem Schritt ein Modell entwickeln, mit dem wir die Nachfrage nach Leihfahrrädern vorhersagen können. Cool, oder? Ziel ist es, deine Vorhersage letztendlich bei Kaggle einzureichen. Kaggle ist eine Plattform von Google, die regelmäßig “Competitions” startet, bei denen es darum geht etwas besonders gut vorherzusagen. Du bekommst einen Trainings-Datensatz mit dem du deine Modelle trainierst. Danach wendest du dein Modell auf einen seperaten Test-Datensatz an. Kaggle überprüft dann die Genauigkeit deiner Vorhersagen und rankt deine Lösung danach."
   ]
  },
  {
   "cell_type": "markdown",
   "metadata": {},
   "source": [
    "<a id='EDLdDk'></a>\n",
    "# Explorative Datenanalyse – Lerne den Datensatz kennen"
   ]
  },
  {
   "cell_type": "markdown",
   "metadata": {},
   "source": [
    "<a id='PdAudZ'></a>\n",
    "## 1. Plot des Ausleihverhaltens über die Zeit (train data set)"
   ]
  },
  {
   "cell_type": "markdown",
   "metadata": {},
   "source": [
    "*Voraussetzung: [Pandas Foundations](https://www.datacamp.com/courses/pandas-foundations), etwas [Matplotlib](https://www.datacamp.com/courses/introduction-to-matplotlib)*"
   ]
  },
  {
   "cell_type": "markdown",
   "metadata": {},
   "source": [
    "Zunächst einmal müssen wir die Datei ```../data/BikeSharing_data.csv``` laden. Da wir später zwischen Test- und Trainings-Datensätzen unterscheiden werden, nennen wir die Variable ```train```.\n",
    "\n",
    "```python\n",
    "import pandas as pd\n",
    "train = pd.read_csv('../data/BikeSharing_data.csv')\n",
    "``` \n",
    "\n",
    "Verschaffe dir nun einen Überblick über den Datensatz. Dafür kannst du zum Beispiel folgende Funktionen nutzen:\n",
    "\n",
    "```python\n",
    "train.head()\n",
    "train.info()\n",
    "train.describe()\n",
    "``` \n",
    "\n",
    "Wie man sehen kann gibt es eine Zeile pro Stunde und die Variable count, die Anzahl der in dieser Stunde ausgeliehenen Räder. Eine ausführliche Beschreibung zum Inhalt der Datei [BikeSharing_data.csv](#Beschreibung-BikeSharing_data.csv) findest du ganz am Ende dieser Datei. Ziel ist es jetzt die Variable ```count``` über den Gesamtverlauf aller 10885 Beobachtungen zu plotten. Essentiell dafür ist das package ```matplotlib```, von dem du auch schon in den DataCamp Kursen gehört hast. Damit kannst du alle möglichen Plots von einfachen Scatterplots über Boxplots und Histogramme bis hin zu fancy Grafiken wie Violin-Plots erstellen.\n",
    "\n",
    "```python\n",
    "import matplotlib.pyplot as plt\n",
    "``` \n",
    "\n",
    "Kannst du daraus schon etwas ablesen?\n",
    "\n",
    "Vielleicht wäre es besser, einen beliebigen 7-Tage Zeitraum auszuwählen (*Tipp: Starte bei Montag, dem 13.06.2011 um 0 Uhr*) und nur diesen zu plotten. Was kann man beobachten? So in etwa könnte dein Plot aussehen: \n",
    "\n",
    "![Demandplot](resources/BikeSharing_demand_plot.png)"
   ]
  },
  {
   "cell_type": "code",
   "execution_count": 3,
   "metadata": {},
   "outputs": [],
   "source": [
    "import pandas as pd"
   ]
  },
  {
   "cell_type": "code",
   "execution_count": 4,
   "metadata": {},
   "outputs": [
    {
     "data": {
      "text/html": [
       "<div>\n",
       "<style scoped>\n",
       "    .dataframe tbody tr th:only-of-type {\n",
       "        vertical-align: middle;\n",
       "    }\n",
       "\n",
       "    .dataframe tbody tr th {\n",
       "        vertical-align: top;\n",
       "    }\n",
       "\n",
       "    .dataframe thead th {\n",
       "        text-align: right;\n",
       "    }\n",
       "</style>\n",
       "<table border=\"1\" class=\"dataframe\">\n",
       "  <thead>\n",
       "    <tr style=\"text-align: right;\">\n",
       "      <th></th>\n",
       "      <th>datetime</th>\n",
       "      <th>season</th>\n",
       "      <th>holiday</th>\n",
       "      <th>workingday</th>\n",
       "      <th>weather</th>\n",
       "      <th>temp</th>\n",
       "      <th>atemp</th>\n",
       "      <th>humidity</th>\n",
       "      <th>windspeed</th>\n",
       "      <th>casual</th>\n",
       "      <th>registered</th>\n",
       "      <th>count</th>\n",
       "    </tr>\n",
       "  </thead>\n",
       "  <tbody>\n",
       "    <tr>\n",
       "      <th>0</th>\n",
       "      <td>2011-01-01 00:00:00</td>\n",
       "      <td>1</td>\n",
       "      <td>0</td>\n",
       "      <td>0</td>\n",
       "      <td>1</td>\n",
       "      <td>9.84</td>\n",
       "      <td>14.395</td>\n",
       "      <td>81</td>\n",
       "      <td>0.0000</td>\n",
       "      <td>3</td>\n",
       "      <td>13</td>\n",
       "      <td>16</td>\n",
       "    </tr>\n",
       "    <tr>\n",
       "      <th>1</th>\n",
       "      <td>2011-01-01 01:00:00</td>\n",
       "      <td>1</td>\n",
       "      <td>0</td>\n",
       "      <td>0</td>\n",
       "      <td>1</td>\n",
       "      <td>9.02</td>\n",
       "      <td>13.635</td>\n",
       "      <td>80</td>\n",
       "      <td>0.0000</td>\n",
       "      <td>8</td>\n",
       "      <td>32</td>\n",
       "      <td>40</td>\n",
       "    </tr>\n",
       "    <tr>\n",
       "      <th>2</th>\n",
       "      <td>2011-01-01 02:00:00</td>\n",
       "      <td>1</td>\n",
       "      <td>0</td>\n",
       "      <td>0</td>\n",
       "      <td>1</td>\n",
       "      <td>9.02</td>\n",
       "      <td>13.635</td>\n",
       "      <td>80</td>\n",
       "      <td>0.0000</td>\n",
       "      <td>5</td>\n",
       "      <td>27</td>\n",
       "      <td>32</td>\n",
       "    </tr>\n",
       "    <tr>\n",
       "      <th>3</th>\n",
       "      <td>2011-01-01 03:00:00</td>\n",
       "      <td>1</td>\n",
       "      <td>0</td>\n",
       "      <td>0</td>\n",
       "      <td>1</td>\n",
       "      <td>9.84</td>\n",
       "      <td>14.395</td>\n",
       "      <td>75</td>\n",
       "      <td>0.0000</td>\n",
       "      <td>3</td>\n",
       "      <td>10</td>\n",
       "      <td>13</td>\n",
       "    </tr>\n",
       "    <tr>\n",
       "      <th>4</th>\n",
       "      <td>2011-01-01 04:00:00</td>\n",
       "      <td>1</td>\n",
       "      <td>0</td>\n",
       "      <td>0</td>\n",
       "      <td>1</td>\n",
       "      <td>9.84</td>\n",
       "      <td>14.395</td>\n",
       "      <td>75</td>\n",
       "      <td>0.0000</td>\n",
       "      <td>0</td>\n",
       "      <td>1</td>\n",
       "      <td>1</td>\n",
       "    </tr>\n",
       "    <tr>\n",
       "      <th>5</th>\n",
       "      <td>2011-01-01 05:00:00</td>\n",
       "      <td>1</td>\n",
       "      <td>0</td>\n",
       "      <td>0</td>\n",
       "      <td>2</td>\n",
       "      <td>9.84</td>\n",
       "      <td>12.880</td>\n",
       "      <td>75</td>\n",
       "      <td>6.0032</td>\n",
       "      <td>0</td>\n",
       "      <td>1</td>\n",
       "      <td>1</td>\n",
       "    </tr>\n",
       "    <tr>\n",
       "      <th>6</th>\n",
       "      <td>2011-01-01 06:00:00</td>\n",
       "      <td>1</td>\n",
       "      <td>0</td>\n",
       "      <td>0</td>\n",
       "      <td>1</td>\n",
       "      <td>9.02</td>\n",
       "      <td>13.635</td>\n",
       "      <td>80</td>\n",
       "      <td>0.0000</td>\n",
       "      <td>2</td>\n",
       "      <td>0</td>\n",
       "      <td>2</td>\n",
       "    </tr>\n",
       "  </tbody>\n",
       "</table>\n",
       "</div>"
      ],
      "text/plain": [
       "              datetime  season  holiday  workingday  weather  temp   atemp  \\\n",
       "0  2011-01-01 00:00:00       1        0           0        1  9.84  14.395   \n",
       "1  2011-01-01 01:00:00       1        0           0        1  9.02  13.635   \n",
       "2  2011-01-01 02:00:00       1        0           0        1  9.02  13.635   \n",
       "3  2011-01-01 03:00:00       1        0           0        1  9.84  14.395   \n",
       "4  2011-01-01 04:00:00       1        0           0        1  9.84  14.395   \n",
       "5  2011-01-01 05:00:00       1        0           0        2  9.84  12.880   \n",
       "6  2011-01-01 06:00:00       1        0           0        1  9.02  13.635   \n",
       "\n",
       "   humidity  windspeed  casual  registered  count  \n",
       "0        81     0.0000       3          13     16  \n",
       "1        80     0.0000       8          32     40  \n",
       "2        80     0.0000       5          27     32  \n",
       "3        75     0.0000       3          10     13  \n",
       "4        75     0.0000       0           1      1  \n",
       "5        75     6.0032       0           1      1  \n",
       "6        80     0.0000       2           0      2  "
      ]
     },
     "execution_count": 4,
     "metadata": {},
     "output_type": "execute_result"
    }
   ],
   "source": [
    "# first navigate two folders up '..', then find the file in '/data/'\n",
    "train = pd.read_csv('data/BikeSharing_data.csv')\n",
    "\n",
    "train.head(7) # shows the first 5 rows by default"
   ]
  },
  {
   "cell_type": "code",
   "execution_count": 5,
   "metadata": {},
   "outputs": [
    {
     "data": {
      "text/plain": [
       "[<matplotlib.lines.Line2D at 0x7ff348915240>]"
      ]
     },
     "execution_count": 5,
     "metadata": {},
     "output_type": "execute_result"
    },
    {
     "data": {
      "image/png": "[encoded data removed]",
      "text/plain": [
       "<Figure size 432x288 with 1 Axes>"
      ]
     },
     "metadata": {
      "needs_background": "light"
     },
     "output_type": "display_data"
    }
   ],
   "source": [
    "import matplotlib.pyplot as plt\n",
    "plt.plot(train['count'])"
   ]
  },
  {
   "cell_type": "markdown",
   "metadata": {},
   "source": [
    "<a id='WlwdRa'></a>\n",
    "## 2. Wie lange werden die Räder ausgeliehen?"
   ]
  },
  {
   "cell_type": "markdown",
   "metadata": {},
   "source": [
    "*Voraussetzung: [Numpy](https://campus.datacamp.com/courses/intro-to-python-for-data-science/chapter-4-numpy?ex=1), [Pandas Foundations](https://www.datacamp.com/courses/pandas-foundations), [Matplotlib](https://www.datacamp.com/courses/introduction-to-matplotlib)*"
   ]
  },
  {
   "cell_type": "markdown",
   "metadata": {},
   "source": [
    "Wir wechseln nun den Datensatz. Im vorherigen Kaggle-Datensatz war die Anzahl der ausgeliehenen Fahrräder aggregiert nach Stunden. Auf der Website von Capital Bikeshare finden sich aber auch Datensätze auf einzelner Ausleih-Basis . Das heißt, jede einzelne Fahrt mit einem Fahrrad hat einen eigenen Eintrag in dem Datensatz. Wir haben beispielsweise die Daten von Februar 2019 schon in den Datenordner geladen (```'../data/BikeSharing_data_201902.csv'``` - eine ausführlichere [Beschreibung BikeSharing_data_201902.csv](#Beschreibung-BikeSharing_data_201902.csv) findest du ganz am Ende dieser Datei). Importiere diese Daten nun.\n",
    "\n",
    "```python\n",
    "monthly = pd.read_csv('../data/BikeSharing_data_201902.csv')\n",
    "```\n",
    "\n",
    "Schaue dir nun mit den schon bekannten Funktionen die Struktur des Datensatzes an. Generiere die typischen Lagemaße für die einzelnen Variablen (mean, median, standard deviation, etc.). Was fällt dir dabei auf? \n",
    "\n",
    "In diesem Datensatz finden sich auch Angaben über die Mitgliedschaft der Kunden bei dem Bike Sharing Anbieter. ```Member type``` kann entweder *Member* oder *Casual* annehmen. Je nach Ausprägung dieser Variable ist der Kunde registriert oder nicht.\n",
    "\n",
    "Stelle die Daten der *Duration*-Spalte in einem [Histogramm](https://matplotlib.org/gallery/statistics/hist.html) dar. Verwende dabei Ausleihen von 0 - 60 Minuten mit Intervallgrenzen von 1er Minute.\n",
    "\n",
    "### Bonus\n",
    "\n",
    "Stelle die Histogramme für die verschiendnen Member in einem Plot mit den selben Paramtern wie oben dar. Die Anzahl der Beobachtungen für die Gruppen liegt weit auseinander, wie kann man dennoch Histogramme erstellen, die optisch einen Vergleich der Verteilungen erlauben?\n",
    "\n",
    "So könnte eine Lösung aussehen:\n",
    "![Durationplot](resources/BikeSharing_duration_plot.png)"
   ]
  },
  {
   "cell_type": "code",
   "execution_count": 13,
   "metadata": {},
   "outputs": [
    {
     "data": {
      "text/html": [
       "<div>\n",
       "<style scoped>\n",
       "    .dataframe tbody tr th:only-of-type {\n",
       "        vertical-align: middle;\n",
       "    }\n",
       "\n",
       "    .dataframe tbody tr th {\n",
       "        vertical-align: top;\n",
       "    }\n",
       "\n",
       "    .dataframe thead th {\n",
       "        text-align: right;\n",
       "    }\n",
       "</style>\n",
       "<table border=\"1\" class=\"dataframe\">\n",
       "  <thead>\n",
       "    <tr style=\"text-align: right;\">\n",
       "      <th></th>\n",
       "      <th>Duration</th>\n",
       "      <th>Start date</th>\n",
       "      <th>End date</th>\n",
       "      <th>Start station number</th>\n",
       "      <th>Start station</th>\n",
       "      <th>End station number</th>\n",
       "      <th>End station</th>\n",
       "      <th>Bike number</th>\n",
       "      <th>Member type</th>\n",
       "    </tr>\n",
       "  </thead>\n",
       "  <tbody>\n",
       "    <tr>\n",
       "      <th>0</th>\n",
       "      <td>206</td>\n",
       "      <td>2019-02-01 00:00:20</td>\n",
       "      <td>2019-02-01 00:03:47</td>\n",
       "      <td>31509</td>\n",
       "      <td>New Jersey Ave &amp; R St NW</td>\n",
       "      <td>31636</td>\n",
       "      <td>New Jersey Ave &amp; N St NW/Dunbar HS</td>\n",
       "      <td>W21713</td>\n",
       "      <td>Member</td>\n",
       "    </tr>\n",
       "    <tr>\n",
       "      <th>1</th>\n",
       "      <td>297</td>\n",
       "      <td>2019-02-01 00:04:40</td>\n",
       "      <td>2019-02-01 00:09:38</td>\n",
       "      <td>31203</td>\n",
       "      <td>14th &amp; Rhode Island Ave NW</td>\n",
       "      <td>31519</td>\n",
       "      <td>1st &amp; O St NW</td>\n",
       "      <td>E00013</td>\n",
       "      <td>Member</td>\n",
       "    </tr>\n",
       "    <tr>\n",
       "      <th>2</th>\n",
       "      <td>165</td>\n",
       "      <td>2019-02-01 00:06:34</td>\n",
       "      <td>2019-02-01 00:09:20</td>\n",
       "      <td>31303</td>\n",
       "      <td>Tenleytown / Wisconsin Ave &amp; Albemarle St NW</td>\n",
       "      <td>31308</td>\n",
       "      <td>39th &amp; Veazey St NW</td>\n",
       "      <td>W21703</td>\n",
       "      <td>Member</td>\n",
       "    </tr>\n",
       "    <tr>\n",
       "      <th>3</th>\n",
       "      <td>176</td>\n",
       "      <td>2019-02-01 00:06:49</td>\n",
       "      <td>2019-02-01 00:09:45</td>\n",
       "      <td>31400</td>\n",
       "      <td>Georgia &amp; New Hampshire Ave NW</td>\n",
       "      <td>31401</td>\n",
       "      <td>14th St &amp; Spring Rd NW</td>\n",
       "      <td>W21699</td>\n",
       "      <td>Member</td>\n",
       "    </tr>\n",
       "    <tr>\n",
       "      <th>4</th>\n",
       "      <td>105</td>\n",
       "      <td>2019-02-01 00:10:41</td>\n",
       "      <td>2019-02-01 00:12:27</td>\n",
       "      <td>31270</td>\n",
       "      <td>8th &amp; D St NW</td>\n",
       "      <td>31256</td>\n",
       "      <td>10th &amp; E St NW</td>\n",
       "      <td>W21710</td>\n",
       "      <td>Member</td>\n",
       "    </tr>\n",
       "  </tbody>\n",
       "</table>\n",
       "</div>"
      ],
      "text/plain": [
       "   Duration           Start date             End date  Start station number  \\\n",
       "0       206  2019-02-01 00:00:20  2019-02-01 00:03:47                 31509   \n",
       "1       297  2019-02-01 00:04:40  2019-02-01 00:09:38                 31203   \n",
       "2       165  2019-02-01 00:06:34  2019-02-01 00:09:20                 31303   \n",
       "3       176  2019-02-01 00:06:49  2019-02-01 00:09:45                 31400   \n",
       "4       105  2019-02-01 00:10:41  2019-02-01 00:12:27                 31270   \n",
       "\n",
       "                                  Start station  End station number  \\\n",
       "0                      New Jersey Ave & R St NW               31636   \n",
       "1                    14th & Rhode Island Ave NW               31519   \n",
       "2  Tenleytown / Wisconsin Ave & Albemarle St NW               31308   \n",
       "3                Georgia & New Hampshire Ave NW               31401   \n",
       "4                                 8th & D St NW               31256   \n",
       "\n",
       "                          End station Bike number Member type  \n",
       "0  New Jersey Ave & N St NW/Dunbar HS      W21713      Member  \n",
       "1                       1st & O St NW      E00013      Member  \n",
       "2                 39th & Veazey St NW      W21703      Member  \n",
       "3              14th St & Spring Rd NW      W21699      Member  \n",
       "4                      10th & E St NW      W21710      Member  "
      ]
     },
     "execution_count": 13,
     "metadata": {},
     "output_type": "execute_result"
    }
   ],
   "source": [
    "monthly = pd.read_csv('data/BikeSharing_data_201902.csv')\n",
    "\n",
    "monthly.head()"
   ]
  },
  {
   "cell_type": "markdown",
   "metadata": {},
   "source": [
    "<a id='AnW'></a>\n",
    "## 3. Ausleihe nach Wochentag"
   ]
  },
  {
   "cell_type": "markdown",
   "metadata": {},
   "source": [
    "*Voraussetzung: [Pandas Foundations](https://www.datacamp.com/courses/pandas-foundations), [Matplotlib](https://www.datacamp.com/courses/introduction-to-matplotlib), [Python Standardlibraries](https://docs.python.org/2/library/calendar.html), [Python Data Science Toolbox](https://www.datacamp.com/courses/python-data-science-toolbox-part-1)*"
   ]
  },
  {
   "cell_type": "markdown",
   "metadata": {},
   "source": [
    "Wie in Aufgabe 1 festgestellt, scheint die Nachfrage nach Leihrädern nicht nur von der Uhrzeit, sondern auch vom Wochentag abzuhängen. Wie unterscheidet sich das Ausleihverhalten zwischen den Wochentagen, insbesondere im Hinblick auf die Uhrzeiten zu denen geliehen wird? Erstelle dafür einen  [Line Plot](https://matplotlib.org/api/_as_gen/matplotlib.pyplot.plot.html#matplotlib.pyplot.plot)  mit der Summe der geliehenen Räder in Abhängigkeit der Uhrzeit (*Tipp: Pandas [groupby](https://www.tutorialspoint.com/python_pandas/python_pandas_groupby.htm)*). Erstelle danach den selben Plot (Summe der Räder gegen Uhrzeit), aber diesmal zusätzlich differenziert nach Wochentag. Was lässt sich hier feststellen?\n",
    "\n",
    "Erster Schritt: Im Datensatz ```'BikeSharing_data.csv'``` gibt es für Datum und Uhrzeit nur die Spalte ```'datetime'```, die nötigen Informationen über die Uhrzeit müssen noch abgespalten bzw. der Wochentag muss noch herausgefunden und hinzugefügt werden! (*Tipp: Nutze Standard-Libraries ```datetime``` und ```calendar```. Darin findet sich auch eine Funktion, mit der man den Wochentag herausfinden kann.*)\n",
    "\n",
    "Hier ein Beispiel für einen Scatterplot dieser Daten:\n",
    "\n",
    "![Weekdayplot](resources/BikeSharing_weekday_plot.png)"
   ]
  },
  {
   "cell_type": "code",
   "execution_count": 14,
   "metadata": {},
   "outputs": [],
   "source": [
    "import pandas as pd\n",
    "train = pd.read_csv('data/BikeSharing_data.csv') "
   ]
  },
  {
   "cell_type": "code",
   "execution_count": 15,
   "metadata": {},
   "outputs": [],
   "source": [
    "import calendar\n",
    "import datetime"
   ]
  },
  {
   "cell_type": "code",
   "execution_count": 16,
   "metadata": {
    "scrolled": false
   },
   "outputs": [
    {
     "data": {
      "text/plain": [
       "'2011-01-01 00:00:00'"
      ]
     },
     "execution_count": 16,
     "metadata": {},
     "output_type": "execute_result"
    }
   ],
   "source": [
    "train['datetime'][0] #Output of a single cell. As one can see this is a string, but we need date and time separately"
   ]
  },
  {
   "cell_type": "markdown",
   "metadata": {},
   "source": [
    "<a id='MuKz'></a>\n",
    "## 4. Mergen und Karten zeichnen"
   ]
  },
  {
   "cell_type": "markdown",
   "metadata": {},
   "source": [
    "*Voraussetzung: [Merging Dataframes](https://www.datacamp.com/courses/merging-dataframes-with-pandas), [Matplotlib](https://www.datacamp.com/courses/introduction-to-matplotlib)*"
   ]
  },
  {
   "cell_type": "markdown",
   "metadata": {},
   "source": [
    "<a id='Dm'></a>\n",
    "### 4.1 Datensätze mergen"
   ]
  },
  {
   "cell_type": "markdown",
   "metadata": {},
   "source": [
    "Wir haben es geschafft zu mehr als 80% der BikeSharing-Stationen die GPS-Koordinaten herauszufinden. Diese Daten befinden sich in der Datei ```BikeSharing_data_stations.csv```. Eine ausführlichere [Beschreibung zu BikeSharing_data_stations.csv](#Beschreibung-BikeSharing_data_stations.csv) findest du ganz am Ende dieser Datei.\n",
    "\n",
    "\n",
    "\n",
    "Um weiter arbeiten zu können, müssen wir die beiden Datensätze ```BikeSharing_data_stations.csv``` und ```BikeSharing_data_201902.csv``` zusammenbringen (['mergen'](https://stackoverflow.com/questions/53645882/pandas-merging-101)).\n",
    "\n",
    "Tipp: Die Stationen besitzen IDs, über die man sowohl die Koordinaten für die Startstation als auch die Endstation mit einander in Verbindung bringen kann.\n",
    "\n",
    "Der resultierende Datensatz könnte dann in etwa so aussehen:\n",
    "\n",
    "![BikeSharing merged df](resources/BikeSharing_merged_dataframe.png)"
   ]
  },
  {
   "cell_type": "code",
   "execution_count": 17,
   "metadata": {
    "scrolled": false
   },
   "outputs": [
    {
     "data": {
      "text/html": [
       "<div>\n",
       "<style scoped>\n",
       "    .dataframe tbody tr th:only-of-type {\n",
       "        vertical-align: middle;\n",
       "    }\n",
       "\n",
       "    .dataframe tbody tr th {\n",
       "        vertical-align: top;\n",
       "    }\n",
       "\n",
       "    .dataframe thead th {\n",
       "        text-align: right;\n",
       "    }\n",
       "</style>\n",
       "<table border=\"1\" class=\"dataframe\">\n",
       "  <thead>\n",
       "    <tr style=\"text-align: right;\">\n",
       "      <th></th>\n",
       "      <th>Duration</th>\n",
       "      <th>Start date</th>\n",
       "      <th>End date</th>\n",
       "      <th>Start station number</th>\n",
       "      <th>Start station</th>\n",
       "      <th>End station number</th>\n",
       "      <th>End station</th>\n",
       "      <th>Bike number</th>\n",
       "      <th>Member type</th>\n",
       "    </tr>\n",
       "  </thead>\n",
       "  <tbody>\n",
       "    <tr>\n",
       "      <th>0</th>\n",
       "      <td>206</td>\n",
       "      <td>2019-02-01 00:00:20</td>\n",
       "      <td>2019-02-01 00:03:47</td>\n",
       "      <td>31509</td>\n",
       "      <td>New Jersey Ave &amp; R St NW</td>\n",
       "      <td>31636</td>\n",
       "      <td>New Jersey Ave &amp; N St NW/Dunbar HS</td>\n",
       "      <td>W21713</td>\n",
       "      <td>Member</td>\n",
       "    </tr>\n",
       "    <tr>\n",
       "      <th>1</th>\n",
       "      <td>297</td>\n",
       "      <td>2019-02-01 00:04:40</td>\n",
       "      <td>2019-02-01 00:09:38</td>\n",
       "      <td>31203</td>\n",
       "      <td>14th &amp; Rhode Island Ave NW</td>\n",
       "      <td>31519</td>\n",
       "      <td>1st &amp; O St NW</td>\n",
       "      <td>E00013</td>\n",
       "      <td>Member</td>\n",
       "    </tr>\n",
       "    <tr>\n",
       "      <th>2</th>\n",
       "      <td>165</td>\n",
       "      <td>2019-02-01 00:06:34</td>\n",
       "      <td>2019-02-01 00:09:20</td>\n",
       "      <td>31303</td>\n",
       "      <td>Tenleytown / Wisconsin Ave &amp; Albemarle St NW</td>\n",
       "      <td>31308</td>\n",
       "      <td>39th &amp; Veazey St NW</td>\n",
       "      <td>W21703</td>\n",
       "      <td>Member</td>\n",
       "    </tr>\n",
       "    <tr>\n",
       "      <th>3</th>\n",
       "      <td>176</td>\n",
       "      <td>2019-02-01 00:06:49</td>\n",
       "      <td>2019-02-01 00:09:45</td>\n",
       "      <td>31400</td>\n",
       "      <td>Georgia &amp; New Hampshire Ave NW</td>\n",
       "      <td>31401</td>\n",
       "      <td>14th St &amp; Spring Rd NW</td>\n",
       "      <td>W21699</td>\n",
       "      <td>Member</td>\n",
       "    </tr>\n",
       "    <tr>\n",
       "      <th>4</th>\n",
       "      <td>105</td>\n",
       "      <td>2019-02-01 00:10:41</td>\n",
       "      <td>2019-02-01 00:12:27</td>\n",
       "      <td>31270</td>\n",
       "      <td>8th &amp; D St NW</td>\n",
       "      <td>31256</td>\n",
       "      <td>10th &amp; E St NW</td>\n",
       "      <td>W21710</td>\n",
       "      <td>Member</td>\n",
       "    </tr>\n",
       "  </tbody>\n",
       "</table>\n",
       "</div>"
      ],
      "text/plain": [
       "   Duration           Start date             End date  Start station number  \\\n",
       "0       206  2019-02-01 00:00:20  2019-02-01 00:03:47                 31509   \n",
       "1       297  2019-02-01 00:04:40  2019-02-01 00:09:38                 31203   \n",
       "2       165  2019-02-01 00:06:34  2019-02-01 00:09:20                 31303   \n",
       "3       176  2019-02-01 00:06:49  2019-02-01 00:09:45                 31400   \n",
       "4       105  2019-02-01 00:10:41  2019-02-01 00:12:27                 31270   \n",
       "\n",
       "                                  Start station  End station number  \\\n",
       "0                      New Jersey Ave & R St NW               31636   \n",
       "1                    14th & Rhode Island Ave NW               31519   \n",
       "2  Tenleytown / Wisconsin Ave & Albemarle St NW               31308   \n",
       "3                Georgia & New Hampshire Ave NW               31401   \n",
       "4                                 8th & D St NW               31256   \n",
       "\n",
       "                          End station Bike number Member type  \n",
       "0  New Jersey Ave & N St NW/Dunbar HS      W21713      Member  \n",
       "1                       1st & O St NW      E00013      Member  \n",
       "2                 39th & Veazey St NW      W21703      Member  \n",
       "3              14th St & Spring Rd NW      W21699      Member  \n",
       "4                      10th & E St NW      W21710      Member  "
      ]
     },
     "execution_count": 17,
     "metadata": {},
     "output_type": "execute_result"
    }
   ],
   "source": [
    "# reload the data in case something went missing\n",
    "monthly = pd.read_csv('data/BikeSharing_data_201902.csv')\n",
    "\n",
    "monthly.head() "
   ]
  },
  {
   "cell_type": "code",
   "execution_count": 18,
   "metadata": {},
   "outputs": [
    {
     "data": {
      "text/html": [
       "<div>\n",
       "<style scoped>\n",
       "    .dataframe tbody tr th:only-of-type {\n",
       "        vertical-align: middle;\n",
       "    }\n",
       "\n",
       "    .dataframe tbody tr th {\n",
       "        vertical-align: top;\n",
       "    }\n",
       "\n",
       "    .dataframe thead th {\n",
       "        text-align: right;\n",
       "    }\n",
       "</style>\n",
       "<table border=\"1\" class=\"dataframe\">\n",
       "  <thead>\n",
       "    <tr style=\"text-align: right;\">\n",
       "      <th></th>\n",
       "      <th>Unnamed: 0</th>\n",
       "      <th>Station number</th>\n",
       "      <th>Station name</th>\n",
       "      <th>lon</th>\n",
       "      <th>lat</th>\n",
       "    </tr>\n",
       "  </thead>\n",
       "  <tbody>\n",
       "    <tr>\n",
       "      <th>0</th>\n",
       "      <td>0</td>\n",
       "      <td>31303</td>\n",
       "      <td>Tenleytown / Wisconsin Ave &amp; Albemarle St NW</td>\n",
       "      <td>-77.079340</td>\n",
       "      <td>38.947569</td>\n",
       "    </tr>\n",
       "    <tr>\n",
       "      <th>1</th>\n",
       "      <td>1</td>\n",
       "      <td>31400</td>\n",
       "      <td>Georgia &amp; New Hampshire Ave NW</td>\n",
       "      <td>-77.024649</td>\n",
       "      <td>38.936043</td>\n",
       "    </tr>\n",
       "    <tr>\n",
       "      <th>2</th>\n",
       "      <td>2</td>\n",
       "      <td>31270</td>\n",
       "      <td>8th &amp; D St NW</td>\n",
       "      <td>-77.023242</td>\n",
       "      <td>38.894859</td>\n",
       "    </tr>\n",
       "    <tr>\n",
       "      <th>3</th>\n",
       "      <td>3</td>\n",
       "      <td>31503</td>\n",
       "      <td>Florida Ave &amp; R St NW</td>\n",
       "      <td>-77.013438</td>\n",
       "      <td>38.912541</td>\n",
       "    </tr>\n",
       "    <tr>\n",
       "      <th>4</th>\n",
       "      <td>4</td>\n",
       "      <td>31324</td>\n",
       "      <td>18th &amp; New Hampshire Ave NW</td>\n",
       "      <td>-77.041831</td>\n",
       "      <td>38.911276</td>\n",
       "    </tr>\n",
       "  </tbody>\n",
       "</table>\n",
       "</div>"
      ],
      "text/plain": [
       "   Unnamed: 0  Station number                                  Station name  \\\n",
       "0           0           31303  Tenleytown / Wisconsin Ave & Albemarle St NW   \n",
       "1           1           31400                Georgia & New Hampshire Ave NW   \n",
       "2           2           31270                                 8th & D St NW   \n",
       "3           3           31503                         Florida Ave & R St NW   \n",
       "4           4           31324                   18th & New Hampshire Ave NW   \n",
       "\n",
       "         lon        lat  \n",
       "0 -77.079340  38.947569  \n",
       "1 -77.024649  38.936043  \n",
       "2 -77.023242  38.894859  \n",
       "3 -77.013438  38.912541  \n",
       "4 -77.041831  38.911276  "
      ]
     },
     "execution_count": 18,
     "metadata": {},
     "output_type": "execute_result"
    }
   ],
   "source": [
    "# load the stations dataset\n",
    "stations = pd.read_csv('data/BikeSharing_data_stations.csv')\n",
    "\n",
    "stations.head()"
   ]
  },
  {
   "cell_type": "markdown",
   "metadata": {},
   "source": [
    "<a id='KEv'></a>\n",
    "### 4.2 Koordinaten-Einträge mit Google Maps visualisieren (Bonus-Aufgabe)"
   ]
  },
  {
   "cell_type": "markdown",
   "metadata": {},
   "source": [
    "Du kannst mit Jupyter über die Bibliothek ```ipyleaflet``` Karten anzeigen und verwenden. Darauf kannst du dann Koordinaten einzeichnen und damit den ```Bikesharing_data_stations.csv```-Datensatz visualisieren. "
   ]
  },
  {
   "cell_type": "code",
   "execution_count": 19,
   "metadata": {},
   "outputs": [
    {
     "data": {
      "application/vnd.jupyter.widget-view+json": {
       "model_id": "fc2fe99514cf4f2a8d245b446a60d9d7",
       "version_major": 2,
       "version_minor": 0
      },
      "text/plain": [
       "Map(basemap={'url': 'https://{s}.tile.openstreetmap.org/{z}/{x}/{y}.png', 'max_zoom': 19, 'attribution': 'Map …"
      ]
     },
     "metadata": {},
     "output_type": "display_data"
    }
   ],
   "source": [
    "from ipyleaflet import Map \n",
    "\n",
    "m = Map(center=(38.9125413, -77.0134376), zoom=12) # centers the map on Washington D.C.\n",
    "\n",
    "m"
   ]
  },
  {
   "cell_type": "markdown",
   "metadata": {},
   "source": [
    "Zeige auf Basis der interaktiven Karte die Standorte der BikeSharing-Stationen  an. Dafür gibt es viele Möglichkeiten. Die [Dokumentation der Ipyleaflet-Bibliothek](https://ipyleaflet.readthedocs.io/en/latest/api_reference/marker.html) bietet dir einen kompletten Überblick.\n",
    "\n",
    "Unten siehst du ein Beispiel, wie man die Ausleihstationen auf einer Karte der Stadt Washington, DC einzeichnen kann.\n",
    "\n",
    "![](../resources/ipyleaflet_plot.png)"
   ]
  },
  {
   "cell_type": "markdown",
   "metadata": {},
   "source": [
    "<a id='NPWsMa'></a>\n",
    "# Nachfrage-Prognose – Wende statistische Methoden an"
   ]
  },
  {
   "cell_type": "markdown",
   "metadata": {},
   "source": [
    "Im vorherigen Teil hast du ein Gefühl für den Datensatz bekommen. Du weißt jetzt, welche Variablen enthalten sind und kennst ein paar charakteristische Eigenschaften des Datensatzes. Noch haben wir den Datensatz aber nur visualisiert. In diesem Abschnitt gehen wir einen Schritt weiter und wenden statistische Methoden an, um die Nachfrage nach Leihfahrrädern möglichst präzise vorherzusagen.\n",
    "\n",
    "Um dein Modell am Schluss vergleichen zu können, nutzen wir die Online-Plattform Kaggle.\n",
    "\n",
    "Erstelle dir einen kostenlosen Account bei Kaggle und gehe dann zum Bike Sharing Demand Projekt unter folgendem Link:\n",
    "\n",
    "https://www.kaggle.com/c/bike-sharing-demand\n",
    "\n",
    "Du erhälst unter Overview eine detaillierte Einführung in das Projekt. Lese dir die Beschreibungen aufmerksam durch. Unter dem Reiter Kernels findest du einige (sehr fortgeschrittene) Lösungen zu dem Projekt. Wenn du einmal nicht weiter kommen solltest, kannst du dir Inspirationen davon holen. Aber bitte copy und paste nicht einfach eine Lösung davon. Das bringt dich persönlich nicht weiter."
   ]
  },
  {
   "cell_type": "markdown",
   "metadata": {},
   "source": [
    "<a id='UdZzdVn'></a>\n",
    "## 1. Untersuche den Zusammenhang zwischen den Variablen näher"
   ]
  },
  {
   "cell_type": "markdown",
   "metadata": {},
   "source": [
    "Wie stehen einzelne Variablen miteinander in Verbindung? Sprich: inwiefern korrelieren die Variablen des Datensatzes miteinander? Das herauszufinden ist enorm wichtig für die Entscheidung, welches Modell du später anwenden kannst.\n",
    "\n",
    "Ein guter Anfang ist es, eine Korrelationsmatrix zu erstellen. Die nötige Funktionalität bietet Pandas selbst an, durch die Funktion ```corr()```. Oder du visualisierst die Korrelationen in einer Heat-Map (am einfachsten geht das über ```matplotlib``` mit der Funktion ```matshow()```). Die nachfolgende Darstellung erfordert allerdings ein wenig mehr Programmieraufwand, der hier nicht wirklich notwendig gewesen wäre (aber schöne Grafiken sind nunmal schön)\n",
    "\n",
    "![Korrelationsmatrix](resources/BikeSharing_corrmatrix_plot.png)\n",
    "\n",
    "Aus diesem Graph kannst du schon sehr viel heraus lesen. Scheinbar variiert die Nachfrage nach Fahrrädern sehr deutlich abhängig von der Tageszeit, sowie von der Temperatur."
   ]
  },
  {
   "cell_type": "markdown",
   "metadata": {},
   "source": [
    "<a id='TvMudQ'></a>\n",
    "## 2. Teste verschiedene Modelle und deren Qualität"
   ]
  },
  {
   "cell_type": "markdown",
   "metadata": {},
   "source": [
    "Jetzt kannst du dich mit deinen Statistik-Kenntnissen austoben: Du brauchst jetzt ein Verfahren, wie du die Nachfrage nach Leihrädern zu einer bestimmten Zeit vorhersagen kannst.\n",
    "\n",
    "Eine erste sehr einfache Herangehensweise wäre den Durchschnitt der Nachfrage als erste Vorhersage zu verwenden. Ziemlich sicher ist das jedoch nicht die beste Vorhersage.\n",
    "\n",
    "Schon einmal was von einer linearen Regression gehört? Das wäre schon einmal ein deutlich besserer Ansatz. Jetzt kannst du deine Statistik-Skills ausspielen. Stelle doch einmal ein Modell mit der abhängigen Variable ```count``` auf. Welche unabhängigen Variablen könnten die Nachfrage nach Leihrädern erklären? Hat das Wetter etwas mit der Nachfrage zu tun? Leihen mehr Personen Fahrräder unter der Woche oder am Wochenende aus?\n",
    "\n",
    "Starte mit einem ganz einfachen Modell mit nur einer erklärenden Variable. Zum Beispiel so:\n",
    "\n",
    "$count = β_0 + β_1 * temp + \\epsilon$\n",
    "\n",
    "Für Python gibt es eine Vielzahl an Bibliotheken zur Verwendung statistischer Methoden. Eine der am meisten genutzten ist ```statsmodels```. Die Verwendung ist recht simpel: man benötigt eine unabhängige (X) Variable und eine abhängige (y) Variable. In unserem Fall also Temperatur ```temp``` und Anzahl ```count```. Da wir ein Modell mit variablem Achsenabschnitt spezifiziert haben, fügen wir X noch eine Konstante hinzu. Danach rufen wir die Methode ```fit()``` des OLS-Regressionsmodells auf und geben das Ergebnis aus:\n",
    "\n",
    "```python\n",
    "import statsmodels.api as sm\n",
    " \n",
    "X = sm.add_constant(train[['temp']])  \n",
    "y = np.array(train['count']) \n",
    "\n",
    "results_ols = sm.OLS(y, X).fit() \n",
    "print(results_ols.summary())\n",
    "``` \n",
    "\n",
    "```python\n",
    "                            OLS Regression Results                            \n",
    "==============================================================================\n",
    "Dep. Variable:                      y   R-squared:                       0.156\n",
    "Model:                            OLS   Adj. R-squared:                  0.156\n",
    "Method:                 Least Squares   F-statistic:                     2006.\n",
    "Date:                Mon, 22 Apr 2019   Prob (F-statistic):               0.00\n",
    "Time:                        13:32:50   Log-Likelihood:                -71125.\n",
    "No. Observations:               10886   AIC:                         1.423e+05\n",
    "Df Residuals:                   10884   BIC:                         1.423e+05\n",
    "Df Model:                           1                                         \n",
    "Covariance Type:            nonrobust                                         \n",
    "==============================================================================\n",
    "                 coef    std err          t      P>|t|      [0.025      0.975]\n",
    "------------------------------------------------------------------------------\n",
    "const          6.0462      4.439      1.362      0.173      -2.656      14.748\n",
    "temp           9.1705      0.205     44.783      0.000       8.769       9.572\n",
    "==============================================================================\n",
    "Omnibus:                     1871.687   Durbin-Watson:                   0.369\n",
    "Prob(Omnibus):                  0.000   Jarque-Bera (JB):             3221.966\n",
    "Skew:                           1.123   Prob(JB):                         0.00\n",
    "Kurtosis:                       4.434   Cond. No.                         60.4\n",
    "==============================================================================\n",
    "\n",
    "Warnings:\n",
    "[1] Standard Errors assume that the covariance matrix of the errors is correctly specified.\n",
    "```\n",
    "\n",
    "Hat die Temperatur einen statistisch signifikanten Einfluss auf die Nachfrage nach Leihfahrrädern? Vermutlich ja.\n",
    "\n",
    "Wenn wir jedoch bei diesem sehr vereinfachten Modell bleiben, begehen wir einen typischen Fehler: Den sogenannten Omitted Variable Bias (OVB). Grob vereinfacht gesprochen vernachlässigen wir (im Statistik-Jargon: kontrollieren nicht für) Variablen, die einen signifikanten Einfluss auf die abhängige Variable haben. Man könnte vermuten, dass die Tageszeit auch eine große Rolle bei der Nachfrage nach Fahrrädern spielt. Wenn wir diese also nicht mit aufnehmen, ist die Schätzung des Effektes der Temperatur verzerrt und damit schlecht zu gebrauchen.\n",
    "\n",
    "Eine Lösungsmöglichkeit ist, die vernachlässigten Variablen einfach mit in das Modell aufzunehmen – wie praktisch, dass diese auch schon in dem Datensatz enthalten sind. Stellen wir also ein umfangreicheres Modell auf, das die Tageszeit mit aufnimmt:\n",
    "\n",
    "$count = β_0 + β_1 * temp + β_2 * hour + \\epsilon$\n",
    "\n",
    "Hier siehst du das Ergebnis der beiden Modelle. Welches ist besser geeignet? Macht es Sinn, die\n",
    "Variable hour in dieser Form mit in das lineare Regressionsmodell aufzuführen?\n",
    "\n",
    "```python\n",
    "                            OLS Regression Results                            \n",
    "==============================================================================\n",
    "Dep. Variable:                      y   R-squared:                       0.276\n",
    "Model:                            OLS   Adj. R-squared:                  0.276\n",
    "Method:                 Least Squares   F-statistic:                     2074.\n",
    "Date:                Mon, 22 Apr 2019   Prob (F-statistic):               0.00\n",
    "Time:                        13:41:50   Log-Likelihood:                -70288.\n",
    "No. Observations:               10886   AIC:                         1.406e+05\n",
    "Df Residuals:                   10883   BIC:                         1.406e+05\n",
    "Df Model:                           2                                         \n",
    "Covariance Type:            nonrobust                                         \n",
    "==============================================================================\n",
    "                 coef    std err          t      P>|t|      [0.025      0.975]\n",
    "------------------------------------------------------------------------------\n",
    "const        -75.9729      4.541    -16.731      0.000     -84.874     -67.072\n",
    "temp           7.9850      0.192     41.660      0.000       7.609       8.361\n",
    "hour           9.1845      0.216     42.533      0.000       8.761       9.608\n",
    "==============================================================================\n",
    "Omnibus:                     2388.916   Durbin-Watson:                   0.488\n",
    "Prob(Omnibus):                  0.000   Jarque-Bera (JB):             4933.739\n",
    "Skew:                           1.297   Prob(JB):                         0.00\n",
    "Kurtosis:                       5.037   Cond. No.                         75.8\n",
    "==============================================================================\n",
    "\n",
    "Warnings:\n",
    "[1] Standard Errors assume that the covariance matrix of the errors is correctly specified.\n",
    "```\n",
    "\n",
    "Jetzt bist du dran: Probiere mehrere Kombinationen aus und vergleiche die Ergebnisse deiner Modelle. Hinterfrage dabei immer kritisch, ob es Sinn macht, eine jeweilige Variable in das Modellmit aufzunehmen und was das für die Qualität deines Modells bedeutet.\n",
    "\n",
    "Hier sind deiner Kreativität keine Grenze gesetzt. Du musst nicht bei einer einfachen linearen Regression bleiben. Gibt es nicht-lineare Zusammenhänge? Wie geht man mit unrealistischen Vorhersagen um?"
   ]
  },
  {
   "cell_type": "markdown",
   "metadata": {},
   "source": [
    "<a id='VTztTV'></a>\n",
    "## 3. Von Training zu Testen – Treffe Vorhersagen"
   ]
  },
  {
   "cell_type": "markdown",
   "metadata": {},
   "source": [
    "Jetzt hast du dein Modell ausgewählt und mit dem Trainings-Datensatz trainiert. Doch wie gut geht das Modell mit Daten um, die es noch nicht gesehen hat? Das ist ein sehr wichtiger Test für die Qualität deines Modells.\n",
    "\n",
    "Hat dein Modell nur die vorhandenen Muster im Trainings-Datensatz “auswendig” gelernt? Dann wären die Zusammenhänge aus dem Trainings-Datensatz nicht übertragbar auf den Test-Datensatz. Beim sogenannten overfitting hat das Modell zu nah am Trainings-Datensatz gelernt und liefert deshalb schlechte Vorhersagen bei unbekannten Daten – in deinem Test-Datensatz.\n",
    "\n",
    "Auf der andern Seite gibt es auch das Problem underfitting: Dein Modell hat die tatsächlichen Zusammenhänge der Daten nicht gelernt und sagt deshalb in dem Test-Datensatz schlecht voraus. Es gilt also die goldene Mitte zwischen den beiden Problemen zu finden.\n",
    "\n",
    "Jetzt wird die Unterscheidung zwischen Trainings- und Testdatensatz wichtig. Wir nutzen train, um ein Modell zu trainieren und test, um die Qualität unseres Modells letztendlich zu testen. Wir haben bereits die benötigten Daten in deinem Workspace geladen.\n",
    "\n",
    "Lade nun zusätzlich zu dem Datensatz train, den du bereits vorher verwendet hast, den Datensatz test:\n",
    "\n",
    "```python\n",
    "test = pd.read_csv('../data/BikeSharing_data_test.csv')\n",
    "```\n",
    "\n",
    "Erinnerst du dich an die Transformationen, welche du auf den test Datensatz angewandt hast? Denke daran, diese Transformationen noch einmal für test durchzuführen, da du später deine Methoden auch darauf anwenden wirst und dies nur bei identisch transformierten Variablen in beiden Datensätzen funktioniert.\n",
    "\n",
    "Jetzt heißt es, dein favorisiertes Modell auf den Test-Datensatz anzuwenden. Dabei ist die Funktion ```predict()``` sehr hilfreich. Diese gibt einen Vektor von allen Vorhersagen eines bestimmten Modells aus. Hier kannst du jetzt spezifizieren, mit welchem Datensatz das ganze geschehen soll. In diesem Fall ist das der Test-Datensatz.\n",
    "\n",
    "```python\n",
    "results_ols_mult.predict(sm.add_constant(test[['temp', 'hour']]))\n",
    "```\n",
    "\n",
    "Im zweiten Schritt erstellst du dann einen neuen Datensatz, der sowohl die Datums-Variable als auch unsere Vorhersage enthält. Ziel ist es, die Variable count für den test Datensatz mit dem Modell aus dem train Datensatz vorherzusagen.\n",
    "\n",
    "Danach kannst du wieder einen Schritt zurück zum Visualisieren gehen. Überprüfe, ob die Vorhersagen valide sind. Mit einem Histogramm kannst du beispielsweise heraus finden, wie die Verteilung deiner Vorhersagen ist und ob unrealistische Werte vorhergesagt werden.\n",
    "\n",
    "![Histplot](resources/BikeSharing_predict_plot.png)\n",
    "\n",
    "In diesem Histogramm sehen wir die Verteilung der Vorhersagen aus einem sehr simplen Regressionsmodell: Auffällig ist, dass wir negative Nachfrage nach Leihfarrädern vorhergesagt haben. Macht das Sinn? Mit Grafiken kannst du relativ einfach überprüfen, ob deine Ergebnisse Sinn machen. Wir können nun unser Modell weiter anpassen, um diesen “Fehler” zu vermeiden. Die einfachste Möglichkeit ist, alle negativen Werte durch 0 zu ersetzen. Das ist aber ziemlich sicher nicht die beste Methode! Findest du einen sinnvolleren Weg, keine negativen Werte vorherzusagen?"
   ]
  },
  {
   "cell_type": "markdown",
   "metadata": {},
   "source": [
    "<a id='LdDaKh'></a>\n",
    "## 4. Lade den Datensatz auf Kaggle hoch"
   ]
  },
  {
   "cell_type": "markdown",
   "metadata": {},
   "source": [
    "Wenn du mit deinem Modell und den Vorhersagen zufrieden bist, lade den Datensatz auf Kaggle hoch. Du siehst dann gleich, wie deine Lösung im Vergleich zu anderen Teilnehmern abschließt. Aber keine Angst vor einer schlechten Platzierung, auf Kaggle misst du dich mit extrem guten Data Scientists.\n",
    "\n",
    "Zufrieden mit dem Ergebnis? Nein? Dann gehe noch einmal ein paar Schritte zurück und verfeinere dein Modell. Du kannst beliebig oft eine Lösung auf Kaggle hochladen."
   ]
  },
  {
   "cell_type": "markdown",
   "metadata": {},
   "source": [
    "<a id='NF'></a>\n",
    "## Noch Fragen?"
   ]
  },
  {
   "cell_type": "markdown",
   "metadata": {},
   "source": [
    "Du kommst nicht weiter? Oder willst dein Modell noch weiter verbessern, weißt aber nicht genau wie? Oder dir fällt gerade nicht ein, wie man etwas bestimmtes im Code umsetzt? Schaue dir noch einmal unser Handbuch an. Dort findest du hilfreiche Hinweise, wie du in diesem Fall weiter verfahren und wo du nach einer Lösung für deine Fragestellung suchen kannst."
   ]
  },
  {
   "cell_type": "markdown",
   "metadata": {},
   "source": [
    "<a id='BdVidD'></a>\n",
    "# Beschreibung der Variablen in den Datensätzen"
   ]
  },
  {
   "cell_type": "markdown",
   "metadata": {},
   "source": [
    "Wenn du dir einmal nicht sicher bist, welche Variable was aussagt, kannst du hier die Beschrei- bung nachschauen."
   ]
  },
  {
   "cell_type": "markdown",
   "metadata": {},
   "source": [
    "### Beschreibung BikeSharing_data.csv"
   ]
  },
  {
   "cell_type": "markdown",
   "metadata": {},
   "source": [
    "datetime - hourly date + timestamp  \n",
    "\n",
    "season -  \n",
    "\n",
    "    1: spring \n",
    "    \n",
    "    2: summer \n",
    "    \n",
    "    3: fall \n",
    "    \n",
    "    4: winter \n",
    "\n",
    "holiday - whether the day is considered a holiday\n",
    "\n",
    "workingday - whether the day is neither a weekend nor holiday\n",
    "\n",
    "weather - \n",
    "\n",
    "    1: Clear, Few clouds, Partly cloudy, Partly cloudy\n",
    "\n",
    "    2: Mist + Cloudy, Mist + Broken clouds, Mist + Few clouds, Mist\n",
    "\n",
    "    3: Light Snow, Light Rain + Thunderstorm + Scattered clouds, Light Rain + Scattered clouds\n",
    "\n",
    "    4: Heavy Rain + Ice Pallets + Thunderstorm + Mist, Snow + Fog \n",
    "\n",
    "temp - temperature in Celsius\n",
    "\n",
    "atemp - \"feels like\" temperature in Celsius\n",
    "\n",
    "humidity - relative humidity\n",
    "\n",
    "windspeed - wind speed\n",
    "\n",
    "casual - number of non-registered user rentals initiated\n",
    "\n",
    "registered - number of registered user rentals initiated\n",
    "\n",
    "count - number of total rentals\n",
    "\n",
    "[Zurück zu Aufgabe 1](#Aufgabe-1)"
   ]
  },
  {
   "cell_type": "markdown",
   "metadata": {},
   "source": [
    "### Beschreibung BikeSharing_data_201902.csv"
   ]
  },
  {
   "cell_type": "markdown",
   "metadata": {},
   "source": [
    "Duration - amount of time a bike was rented in seconds\n",
    "\n",
    "Start date - start of the rental\n",
    "\n",
    "End date - end of the rental\n",
    "\n",
    "Start station number - id of the station where bike rental started\n",
    "\n",
    "Start station - name of the location of this station\n",
    "\n",
    "End station number - id of the station where bike rental ended \n",
    "\n",
    "End station - name of the location of this station\n",
    "\n",
    "Bike number - id of rented bike\n",
    "\n",
    "Member type - type of customer who rented the bike ('Member' or 'Casual')\n",
    "\n",
    "[Zurück zu Aufgabe 2](#Aufgabe-2)"
   ]
  },
  {
   "cell_type": "markdown",
   "metadata": {},
   "source": [
    "### Beschreibung BikeSharing_data_stations.csv"
   ]
  },
  {
   "cell_type": "markdown",
   "metadata": {},
   "source": [
    "Station number - id of the station\n",
    "\n",
    "Station name - name of the location of this station\n",
    "\n",
    "lon - longitude of the station\n",
    "\n",
    "lat - latitude of the station\n",
    "\n",
    "[Zurück zu Aufgabe 4](#Aufgabe-4)"
   ]
  },
  {
   "cell_type": "code",
   "execution_count": null,
   "metadata": {},
   "outputs": [],
   "source": []
  },
  {
   "cell_type": "code",
   "execution_count": null,
   "metadata": {},
   "outputs": [],
   "source": []
  },
  {
   "cell_type": "code",
   "execution_count": null,
   "metadata": {},
   "outputs": [],
   "source": []
  },
  {
   "cell_type": "code",
   "execution_count": null,
   "metadata": {},
   "outputs": [],
   "source": []
  },
  {
   "cell_type": "code",
   "execution_count": null,
   "metadata": {},
   "outputs": [],
   "source": []
  },
  {
   "cell_type": "code",
   "execution_count": null,
   "metadata": {},
   "outputs": [],
   "source": []
  },
  {
   "cell_type": "code",
   "execution_count": null,
   "metadata": {},
   "outputs": [],
   "source": []
  },
  {
   "cell_type": "code",
   "execution_count": null,
   "metadata": {},
   "outputs": [],
   "source": []
  },
  {
   "cell_type": "code",
   "execution_count": null,
   "metadata": {},
   "outputs": [],
   "source": []
  },
  {
   "cell_type": "code",
   "execution_count": null,
   "metadata": {},
   "outputs": [],
   "source": []
  },
  {
   "cell_type": "code",
   "execution_count": 20,
   "metadata": {},
   "outputs": [
    {
     "data": {
      "text/html": [
       "\n",
       "<style> \n",
       "a { color: black; }\n",
       ".main { font-size: 1.5em; text-decoration: none; }\n",
       ".sub { font-size: 1.25em; }\n",
       ".tab { margin-left: 2em; }\n",
       ".tabtab { margin-left: 3em; }\n",
       "</style>\n"
      ],
      "text/plain": [
       "<IPython.core.display.HTML object>"
      ]
     },
     "execution_count": 20,
     "metadata": {},
     "output_type": "execute_result"
    }
   ],
   "source": [
    "# style the notebook\n",
    "from IPython.core.display import HTML\n",
    "import urllib.request\n",
    "# this link is to my Kalman filter book CSS file.\n",
    "#response = urllib.request.urlopen('https://raw.githubusercontent.com/rlabbe/Kalman-and-Bayesian-Filters-in-Python/master/kf_book/custom.css')\n",
    "HTML(\n",
    "'''\n",
    "<style> \n",
    "a { color: black; }\n",
    ".main { font-size: 1.5em; text-decoration: none; }\n",
    ".sub { font-size: 1.25em; }\n",
    ".tab { margin-left: 2em; }\n",
    ".tabtab { margin-left: 3em; }\n",
    "</style>\n",
    "'''\n",
    ")"
   ]
  },
  {
   "cell_type": "code",
   "execution_count": null,
   "metadata": {},
   "outputs": [],
   "source": []
  }
 ],
 "metadata": {
  "kernelspec": {
   "display_name": "Python 3",
   "language": "python",
   "name": "python3"
  },
  "language_info": {
   "codemirror_mode": {
    "name": "ipython",
    "version": 3
   },
   "file_extension": ".py",
   "mimetype": "text/x-python",
   "name": "python",
   "nbconvert_exporter": "python",
   "pygments_lexer": "ipython3",
   "version": "3.6.7"
  }
 },
 "nbformat": 4,
 "nbformat_minor": 2
}
